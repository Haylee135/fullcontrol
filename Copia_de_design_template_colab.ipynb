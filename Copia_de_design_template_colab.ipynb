{
  "cells": [
    {
      "cell_type": "markdown",
      "metadata": {
        "id": "view-in-github",
        "colab_type": "text"
      },
      "source": [
        "<a href=\"https://colab.research.google.com/github/Haylee135/fullcontrol/blob/master/Copia_de_design_template_colab.ipynb\" target=\"_parent\"><img src=\"https://colab.research.google.com/assets/colab-badge.svg\" alt=\"Open In Colab\"/></a>"
      ]
    },
    {
      "cell_type": "markdown",
      "metadata": {
        "id": "ac9_FmrCOwQL"
      },
      "source": [
        "# FullControl design template\n",
        "\n",
        "*<<< check out demo models [here](https://github.com/FullControlXYZ/fullcontrol/tree/master/models/README.md) >>>*\n",
        "  \n",
        "press ctrl+F9 to run all cells in this notebook, or press shift+enter to run each cell sequentially\n",
        "\n",
        "if you change one of the code cells, make sure you run it and all subsequent cells again (in order)\n",
        "\n",
        "*this document is a jupyter notebook - if they're new to you, check out how they work: [link](https://www.google.com/search?q=ipynb+tutorial), [link](https://jupyter.org/try-jupyter/retro/notebooks/?path=notebooks/Intro.ipynb), [link](https://colab.research.google.com/)*\n",
        "### be patient :)\n",
        "\n",
        "the next code cell may take a while because running it causes several things to happen:\n",
        "- connect to a google colab server -> download the fullcontrol code -> install the fullcontrol code\n",
        "\n",
        "check out [other tutorials](https://github.com/FullControlXYZ/fullcontrol/blob/master/tutorials/README.md) to understand the python code for the FullControl design"
      ]
    },
    {
      "cell_type": "code",
      "execution_count": 87,
      "metadata": {
        "id": "57XXnogSOvDx",
        "colab": {
          "base_uri": "https://localhost:8080/"
        },
        "outputId": "b66a2020-bc85-49e2-fe8d-c27b44c0ac08"
      },
      "outputs": [
        {
          "output_type": "stream",
          "name": "stdout",
          "text": [
            "  Installing build dependencies ... \u001b[?25l\u001b[?25hdone\n",
            "  Getting requirements to build wheel ... \u001b[?25l\u001b[?25hdone\n",
            "  Preparing metadata (pyproject.toml) ... \u001b[?25l\u001b[?25hdone\n"
          ]
        }
      ],
      "source": [
        "if 'google.colab' in str(get_ipython()):\n",
        "  !pip install git+https://github.com/FullControlXYZ/fullcontrol --quiet\n",
        "import fullcontrol as fc\n",
        "from google.colab import files"
      ]
    },
    {
      "cell_type": "code",
      "execution_count": 99,
      "metadata": {
        "id": "ugDJEf9UQYLq"
      },
      "outputs": [],
      "source": [
        "# printer/gcode parameters\n",
        "\n",
        "design_name = 'scaffold en cuadrado_P7'\n",
        "nozzle_temp = 200\n",
        "bed_temp = 50\n",
        "print_speed = 200\n",
        "fan_percent = 100\n",
        "printer_name='ender_3' # generic / ultimaker2plus / prusa_i3 / ender_3 / cr_10 / bambulab_x1 / toolchanger_T0"
      ]
    },
    {
      "cell_type": "code",
      "execution_count": 103,
      "metadata": {
        "id": "DeWKjlzbPC0u"
      },
      "outputs": [],
      "source": [
        "# design parameters\n",
        "\n",
        "EW = 0.4 # extrusion width\n",
        "EH = 0.15 # extrusion height (and layer height)\n",
        "initial_z = EH*0.6 # initial nozzle position is set to 0.6x the extrusion height to get a bit of 'squish' for good bed adhesion\n",
        "layers = 5"
      ]
    },
    {
      "cell_type": "code",
      "execution_count": 114,
      "metadata": {
        "id": "kLPh7aTwQKrF"
      },
      "outputs": [],
      "source": [
        "# generate the design (make sure you've run the above cells before running this cell)\n",
        "\n",
        "# Con esta opción, me hace primero todos los perímetros y luego el relleno, no combina por capas.\n",
        "steps = []\n",
        "from random import random\n",
        "rectangle_steps = fc.rectangleXY(fc.Point(x=50, y=50, z=initial_z), 50, 50)\n",
        "steps = fc.move(rectangle_steps, fc.Vector(z=EH), copy=True, copy_quantity=layers)\n",
        "\n",
        "extra_steps = [fc.Point(x=50+52*random(),y=50+52*random(),z=i*0.005) for i in range(150)]\n",
        "steps.extend(extra_steps)\n",
        "\n",
        "\n",
        "# Con esta opción, al cambiar de capa de perímetro, luego no recupera la altura correcta para seguir haciendo el relleno T_T\n",
        "#for layer in range(layers):\n",
        "  #steps.append(fc.Point(x=32, y=32, z=initial_z+layer*EH))\n",
        "  #steps.append(fc.Point(x=64, y=32, z=initial_z+layer*EH))\n",
        "  #steps.append(fc.Point(x=64, y=64, z=initial_z+layer*EH))\n",
        "  #steps.append(fc.Point(x=32, y=64, z=initial_z+layer*EH))\n",
        "  #steps.append(fc.Point(x=32, y=32, z=initial_z+layer*EH))\n",
        "  #extra_steps = [fc.Point(x=30+35*random(),y=30+35*random(),z=i*0.005) for i in range(150)]\n",
        "  #steps.extend(extra_steps)\n",
        "\n",
        "\n",
        "\n",
        "\n",
        "# instead of the above for-loop code, you can create the exact same design using built-in FullControl functions (uncomment the next two lines):\n",
        "# rectangle_steps = fc.rectangleXY(fc.Point(x=45, y=45, z=initial_z), 50, 50)\n",
        "# steps = fc.move(rectangle_steps, fc.Vector(z=EH), copy=True, copy_quantity=layers)"
      ]
    },
    {
      "cell_type": "code",
      "execution_count": 115,
      "metadata": {
        "id": "ZVdfnpt5RSUi",
        "colab": {
          "base_uri": "https://localhost:8080/",
          "height": 517
        },
        "outputId": "20e4651e-2668-4837-ac0c-8080669dc10c"
      },
      "outputs": [
        {
          "output_type": "display_data",
          "data": {
            "text/html": [
              "<html>\n",
              "<head><meta charset=\"utf-8\" /></head>\n",
              "<body>\n",
              "    <div>            <script src=\"https://cdnjs.cloudflare.com/ajax/libs/mathjax/2.7.5/MathJax.js?config=TeX-AMS-MML_SVG\"></script><script type=\"text/javascript\">if (window.MathJax && window.MathJax.Hub && window.MathJax.Hub.Config) {window.MathJax.Hub.Config({SVG: {font: \"STIX-Web\"}});}</script>                <script type=\"text/javascript\">window.PlotlyConfig = {MathJaxConfig: 'local'};</script>\n",
              "        <script charset=\"utf-8\" src=\"https://cdn.plot.ly/plotly-2.24.1.min.js\"></script>                <div id=\"0230531c-6f42-45f5-8cf4-fab524c8b4c0\" class=\"plotly-graph-div\" style=\"height:500px; width:800px;\"></div>            <script type=\"text/javascript\">                                    window.PLOTLYENV=window.PLOTLYENV || {};                                    if (document.getElementById(\"0230531c-6f42-45f5-8cf4-fab524c8b4c0\")) {                    Plotly.newPlot(                        \"0230531c-6f42-45f5-8cf4-fab524c8b4c0\",                        [{\"line\":{\"color\":[\"rgb(0.00, 30.86, 255.00)\",\"rgb(0.00, 30.86, 255.00)\",\"rgb(0.00, 30.86, 255.00)\",\"rgb(0.00, 30.86, 255.00)\",\"rgb(0.00, 30.86, 255.00)\",\"rgb(0.00, 82.11, 255.00)\",\"rgb(0.00, 82.11, 255.00)\",\"rgb(0.00, 82.11, 255.00)\",\"rgb(0.00, 82.11, 255.00)\",\"rgb(0.00, 82.11, 255.00)\",\"rgb(0.00, 133.37, 255.00)\",\"rgb(0.00, 133.37, 255.00)\",\"rgb(0.00, 133.37, 255.00)\",\"rgb(0.00, 133.37, 255.00)\",\"rgb(0.00, 133.37, 255.00)\",\"rgb(0.00, 184.88, 255.00)\",\"rgb(0.00, 184.88, 255.00)\",\"rgb(0.00, 184.88, 255.00)\",\"rgb(0.00, 184.88, 255.00)\",\"rgb(0.00, 184.88, 255.00)\",\"rgb(0.00, 236.13, 255.00)\",\"rgb(0.00, 236.13, 255.00)\",\"rgb(0.00, 236.13, 255.00)\",\"rgb(0.00, 236.13, 255.00)\",\"rgb(0.00, 236.13, 255.00)\",\"rgb(0.00, 0.00, 255.00)\",\"rgb(0.00, 1.79, 255.00)\",\"rgb(0.00, 3.31, 255.00)\",\"rgb(0.00, 5.10, 255.00)\",\"rgb(0.00, 6.88, 255.00)\",\"rgb(0.00, 8.67, 255.00)\",\"rgb(0.00, 10.20, 255.00)\",\"rgb(0.00, 11.98, 255.00)\",\"rgb(0.00, 13.77, 255.00)\",\"rgb(0.00, 15.30, 255.00)\",\"rgb(0.00, 17.09, 255.00)\",\"rgb(0.00, 18.87, 255.00)\",\"rgb(0.00, 20.66, 255.00)\",\"rgb(0.00, 22.18, 255.00)\",\"rgb(0.00, 23.97, 255.00)\",\"rgb(0.00, 25.76, 255.00)\",\"rgb(0.00, 27.29, 255.00)\",\"rgb(0.00, 29.07, 255.00)\",\"rgb(0.00, 30.86, 255.00)\",\"rgb(0.00, 32.64, 255.00)\",\"rgb(0.00, 34.17, 255.00)\",\"rgb(0.00, 35.95, 255.00)\",\"rgb(0.00, 37.74, 255.00)\",\"rgb(0.00, 39.27, 255.00)\",\"rgb(0.00, 41.05, 255.00)\",\"rgb(0.00, 42.84, 255.00)\",\"rgb(0.00, 44.37, 255.00)\",\"rgb(0.00, 46.16, 255.00)\",\"rgb(0.00, 47.94, 255.00)\",\"rgb(0.00, 49.73, 255.00)\",\"rgb(0.00, 51.26, 255.00)\",\"rgb(0.00, 53.04, 255.00)\",\"rgb(0.00, 54.82, 255.00)\",\"rgb(0.00, 56.36, 255.00)\",\"rgb(0.00, 58.14, 255.00)\",\"rgb(0.00, 59.92, 255.00)\",\"rgb(0.00, 61.71, 255.00)\",\"rgb(0.00, 63.24, 255.00)\",\"rgb(0.00, 65.03, 255.00)\",\"rgb(0.00, 66.81, 255.00)\",\"rgb(0.00, 68.34, 255.00)\",\"rgb(0.00, 70.12, 255.00)\",\"rgb(0.00, 71.91, 255.00)\",\"rgb(0.00, 73.69, 255.00)\",\"rgb(0.00, 75.22, 255.00)\",\"rgb(0.00, 77.01, 255.00)\",\"rgb(0.00, 78.80, 255.00)\",\"rgb(0.00, 80.33, 255.00)\",\"rgb(0.00, 82.11, 255.00)\",\"rgb(0.00, 83.90, 255.00)\",\"rgb(0.00, 85.68, 255.00)\",\"rgb(0.00, 87.21, 255.00)\",\"rgb(0.00, 88.99, 255.00)\",\"rgb(0.00, 90.78, 255.00)\",\"rgb(0.00, 92.31, 255.00)\",\"rgb(0.00, 94.09, 255.00)\",\"rgb(0.00, 95.88, 255.00)\",\"rgb(0.00, 97.67, 255.00)\",\"rgb(0.00, 99.20, 255.00)\",\"rgb(0.00, 100.98, 255.00)\",\"rgb(0.00, 102.77, 255.00)\",\"rgb(0.00, 104.29, 255.00)\",\"rgb(0.00, 106.08, 255.00)\",\"rgb(0.00, 107.86, 255.00)\",\"rgb(0.00, 109.65, 255.00)\",\"rgb(0.00, 111.18, 255.00)\",\"rgb(0.00, 112.97, 255.00)\",\"rgb(0.00, 114.75, 255.00)\",\"rgb(0.00, 116.28, 255.00)\",\"rgb(0.00, 118.07, 255.00)\",\"rgb(0.00, 119.85, 255.00)\",\"rgb(0.00, 121.63, 255.00)\",\"rgb(0.00, 123.16, 255.00)\",\"rgb(0.00, 124.95, 255.00)\",\"rgb(0.00, 126.73, 255.00)\",\"rgb(0.00, 128.27, 255.00)\",\"rgb(0.00, 130.05, 255.00)\",\"rgb(0.00, 131.84, 255.00)\",\"rgb(0.00, 133.37, 255.00)\",\"rgb(0.00, 135.15, 255.00)\",\"rgb(0.00, 136.94, 255.00)\",\"rgb(0.00, 138.72, 255.00)\",\"rgb(0.00, 140.25, 255.00)\",\"rgb(0.00, 142.04, 255.00)\",\"rgb(0.00, 143.82, 255.00)\",\"rgb(0.00, 145.35, 255.00)\",\"rgb(0.00, 147.13, 255.00)\",\"rgb(0.00, 148.92, 255.00)\",\"rgb(0.00, 150.70, 255.00)\",\"rgb(0.00, 152.23, 255.00)\",\"rgb(0.00, 154.02, 255.00)\",\"rgb(0.00, 155.81, 255.00)\",\"rgb(0.00, 157.34, 255.00)\",\"rgb(0.00, 159.12, 255.00)\",\"rgb(0.00, 160.91, 255.00)\",\"rgb(0.00, 162.69, 255.00)\",\"rgb(0.00, 164.22, 255.00)\",\"rgb(0.00, 166.00, 255.00)\",\"rgb(0.00, 167.79, 255.00)\",\"rgb(0.00, 169.32, 255.00)\",\"rgb(0.00, 171.11, 255.00)\",\"rgb(0.00, 172.89, 255.00)\",\"rgb(0.00, 174.68, 255.00)\",\"rgb(0.00, 176.20, 255.00)\",\"rgb(0.00, 177.99, 255.00)\",\"rgb(0.00, 179.77, 255.00)\",\"rgb(0.00, 181.30, 255.00)\",\"rgb(0.00, 183.09, 255.00)\",\"rgb(0.00, 184.88, 255.00)\",\"rgb(0.00, 186.66, 255.00)\",\"rgb(0.00, 188.19, 255.00)\",\"rgb(0.00, 189.97, 255.00)\",\"rgb(0.00, 191.76, 255.00)\",\"rgb(0.00, 193.29, 255.00)\",\"rgb(0.00, 195.08, 255.00)\",\"rgb(0.00, 196.86, 255.00)\",\"rgb(0.00, 198.65, 255.00)\",\"rgb(0.00, 200.18, 255.00)\",\"rgb(0.00, 201.96, 255.00)\",\"rgb(0.00, 203.75, 255.00)\",\"rgb(0.00, 205.28, 255.00)\",\"rgb(0.00, 207.06, 255.00)\",\"rgb(0.00, 208.84, 255.00)\",\"rgb(0.00, 210.63, 255.00)\",\"rgb(0.00, 212.16, 255.00)\",\"rgb(0.00, 213.94, 255.00)\",\"rgb(0.00, 215.73, 255.00)\",\"rgb(0.00, 217.26, 255.00)\",\"rgb(0.00, 219.04, 255.00)\",\"rgb(0.00, 220.83, 255.00)\",\"rgb(0.00, 222.36, 255.00)\",\"rgb(0.00, 224.15, 255.00)\",\"rgb(0.00, 225.93, 255.00)\",\"rgb(0.00, 227.72, 255.00)\",\"rgb(0.00, 229.25, 255.00)\",\"rgb(0.00, 231.03, 255.00)\",\"rgb(0.00, 232.81, 255.00)\",\"rgb(0.00, 234.34, 255.00)\",\"rgb(0.00, 236.13, 255.00)\",\"rgb(0.00, 237.92, 255.00)\",\"rgb(0.00, 239.70, 255.00)\",\"rgb(0.00, 241.23, 255.00)\",\"rgb(0.00, 243.01, 255.00)\",\"rgb(0.00, 244.80, 255.00)\",\"rgb(0.00, 246.33, 255.00)\",\"rgb(0.00, 248.11, 255.00)\",\"rgb(0.00, 249.90, 255.00)\",\"rgb(0.00, 251.69, 255.00)\",\"rgb(0.00, 253.22, 255.00)\",\"rgb(0.00, 255.00, 255.00)\"],\"width\":4},\"mode\":\"lines\",\"showlegend\":false,\"x\":[50.0,100.0,100.0,50.0,50.0,50.0,100.0,100.0,50.0,50.0,50.0,100.0,100.0,50.0,50.0,50.0,100.0,100.0,50.0,50.0,50.0,100.0,100.0,50.0,50.0,60.716,95.165,72.598,98.279,59.418,89.392,50.808,86.826,71.717,99.639,83.911,80.03,90.632,66.825,90.705,58.63,69.904,95.981,71.775,91.832,71.825,96.596,83.455,52.709,51.936,88.559,63.895,54.913,91.485,66.1,98.368,63.669,52.128,84.807,90.788,64.452,92.418,100.993,72.964,59.202,53.354,83.19,89.361,79.646,68.744,67.55,100.249,72.482,99.949,55.314,72.292,89.852,77.341,65.846,69.307,64.345,69.236,97.596,76.921,74.581,98.002,65.234,75.03,61.991,63.116,90.064,96.133,99.941,93.832,55.192,57.594,95.612,50.967,83.692,55.915,63.384,91.294,56.501,68.009,53.842,71.64,101.832,99.46,50.96,56.618,78.602,89.531,100.781,85.375,79.288,55.268,66.588,88.125,74.164,95.901,87.893,60.776,57.42,69.74,91.434,81.536,65.819,101.543,59.113,57.265,55.983,56.604,88.501,98.029,79.049,79.081,74.537,84.106,52.144,87.425,64.398,96.178,88.448,62.855,97.952,91.214,86.036,69.438,61.668,53.574,62.528,93.581,82.671,79.596,51.777,75.25,75.632,78.323,82.613,72.079,54.318,70.595,85.202,82.176,77.778,99.774,54.363,65.166,61.336,59.888,71.012,100.033,58.53,94.346,101.304],\"y\":[50.0,50.0,100.0,100.0,50.0,50.0,50.0,100.0,100.0,50.0,50.0,50.0,100.0,100.0,50.0,50.0,50.0,100.0,100.0,50.0,50.0,50.0,100.0,100.0,50.0,82.637,62.12,56.461,74.883,87.758,50.537,71.558,91.873,96.168,76.507,64.239,86.87,93.64,76.837,54.303,91.051,66.225,83.9,51.738,50.728,94.852,54.594,63.314,67.139,100.573,93.806,80.159,84.717,100.119,58.444,62.334,69.883,66.733,71.613,81.055,51.613,97.328,75.072,98.297,90.535,85.749,87.985,57.484,73.795,100.018,80.483,52.006,89.822,53.273,76.717,62.884,97.148,63.725,99.791,90.861,63.622,55.163,61.186,84.957,59.735,91.405,97.861,96.182,51.693,68.004,55.855,90.563,74.537,59.493,92.861,101.187,57.369,79.446,74.212,80.274,77.817,83.092,101.992,55.671,58.194,66.655,98.152,56.135,85.254,62.171,63.096,73.027,72.309,75.332,55.133,67.877,69.77,80.926,82.862,90.624,91.402,64.986,93.144,68.979,67.718,84.991,90.835,56.122,78.921,76.686,55.85,78.044,92.768,97.385,50.835,81.286,52.45,72.939,61.762,76.807,52.188,97.853,67.728,100.785,99.802,60.265,65.334,93.47,101.903,63.298,76.505,96.258,77.484,75.211,86.158,86.022,51.628,58.072,77.836,97.65,86.976,94.986,73.219,98.867,76.941,68.746,55.127,64.805,56.644,90.742,89.79,95.506,57.184,84.807,101.28],\"z\":[0.09,0.09,0.09,0.09,0.09,0.24,0.24,0.24,0.24,0.24,0.39,0.39,0.39,0.39,0.39,0.54,0.54,0.54,0.54,0.54,0.69,0.69,0.69,0.69,0.69,0.0,0.005,0.01,0.015,0.02,0.025,0.03,0.035,0.04,0.045,0.05,0.055,0.06,0.065,0.07,0.075,0.08,0.085,0.09,0.095,0.1,0.105,0.11,0.115,0.12,0.125,0.13,0.135,0.14,0.145,0.15,0.155,0.16,0.165,0.17,0.175,0.18,0.185,0.19,0.195,0.2,0.205,0.21,0.215,0.22,0.225,0.23,0.235,0.24,0.245,0.25,0.255,0.26,0.265,0.27,0.275,0.28,0.285,0.29,0.295,0.3,0.305,0.31,0.315,0.32,0.325,0.33,0.335,0.34,0.345,0.35,0.355,0.36,0.365,0.37,0.375,0.38,0.385,0.39,0.395,0.4,0.405,0.41,0.415,0.42,0.425,0.43,0.435,0.44,0.445,0.45,0.455,0.46,0.465,0.47,0.475,0.48,0.485,0.49,0.495,0.5,0.505,0.51,0.515,0.52,0.525,0.53,0.535,0.54,0.545,0.55,0.555,0.56,0.565,0.57,0.575,0.58,0.585,0.59,0.595,0.6,0.605,0.61,0.615,0.62,0.625,0.63,0.635,0.64,0.645,0.65,0.655,0.66,0.665,0.67,0.675,0.68,0.685,0.69,0.695,0.7,0.705,0.71,0.715,0.72,0.725,0.73,0.735,0.74,0.745],\"type\":\"scatter3d\"},{\"marker\":{\"color\":\"red\",\"size\":2},\"mode\":\"markers\",\"showlegend\":false,\"x\":[],\"y\":[],\"z\":[],\"type\":\"scatter3d\"}],                        {\"template\":{\"data\":{\"barpolar\":[{\"marker\":{\"line\":{\"color\":\"rgb(17,17,17)\",\"width\":0.5},\"pattern\":{\"fillmode\":\"overlay\",\"size\":10,\"solidity\":0.2}},\"type\":\"barpolar\"}],\"bar\":[{\"error_x\":{\"color\":\"#f2f5fa\"},\"error_y\":{\"color\":\"#f2f5fa\"},\"marker\":{\"line\":{\"color\":\"rgb(17,17,17)\",\"width\":0.5},\"pattern\":{\"fillmode\":\"overlay\",\"size\":10,\"solidity\":0.2}},\"type\":\"bar\"}],\"carpet\":[{\"aaxis\":{\"endlinecolor\":\"#A2B1C6\",\"gridcolor\":\"#506784\",\"linecolor\":\"#506784\",\"minorgridcolor\":\"#506784\",\"startlinecolor\":\"#A2B1C6\"},\"baxis\":{\"endlinecolor\":\"#A2B1C6\",\"gridcolor\":\"#506784\",\"linecolor\":\"#506784\",\"minorgridcolor\":\"#506784\",\"startlinecolor\":\"#A2B1C6\"},\"type\":\"carpet\"}],\"choropleth\":[{\"colorbar\":{\"outlinewidth\":0,\"ticks\":\"\"},\"type\":\"choropleth\"}],\"contourcarpet\":[{\"colorbar\":{\"outlinewidth\":0,\"ticks\":\"\"},\"type\":\"contourcarpet\"}],\"contour\":[{\"colorbar\":{\"outlinewidth\":0,\"ticks\":\"\"},\"colorscale\":[[0.0,\"#0d0887\"],[0.1111111111111111,\"#46039f\"],[0.2222222222222222,\"#7201a8\"],[0.3333333333333333,\"#9c179e\"],[0.4444444444444444,\"#bd3786\"],[0.5555555555555556,\"#d8576b\"],[0.6666666666666666,\"#ed7953\"],[0.7777777777777778,\"#fb9f3a\"],[0.8888888888888888,\"#fdca26\"],[1.0,\"#f0f921\"]],\"type\":\"contour\"}],\"heatmapgl\":[{\"colorbar\":{\"outlinewidth\":0,\"ticks\":\"\"},\"colorscale\":[[0.0,\"#0d0887\"],[0.1111111111111111,\"#46039f\"],[0.2222222222222222,\"#7201a8\"],[0.3333333333333333,\"#9c179e\"],[0.4444444444444444,\"#bd3786\"],[0.5555555555555556,\"#d8576b\"],[0.6666666666666666,\"#ed7953\"],[0.7777777777777778,\"#fb9f3a\"],[0.8888888888888888,\"#fdca26\"],[1.0,\"#f0f921\"]],\"type\":\"heatmapgl\"}],\"heatmap\":[{\"colorbar\":{\"outlinewidth\":0,\"ticks\":\"\"},\"colorscale\":[[0.0,\"#0d0887\"],[0.1111111111111111,\"#46039f\"],[0.2222222222222222,\"#7201a8\"],[0.3333333333333333,\"#9c179e\"],[0.4444444444444444,\"#bd3786\"],[0.5555555555555556,\"#d8576b\"],[0.6666666666666666,\"#ed7953\"],[0.7777777777777778,\"#fb9f3a\"],[0.8888888888888888,\"#fdca26\"],[1.0,\"#f0f921\"]],\"type\":\"heatmap\"}],\"histogram2dcontour\":[{\"colorbar\":{\"outlinewidth\":0,\"ticks\":\"\"},\"colorscale\":[[0.0,\"#0d0887\"],[0.1111111111111111,\"#46039f\"],[0.2222222222222222,\"#7201a8\"],[0.3333333333333333,\"#9c179e\"],[0.4444444444444444,\"#bd3786\"],[0.5555555555555556,\"#d8576b\"],[0.6666666666666666,\"#ed7953\"],[0.7777777777777778,\"#fb9f3a\"],[0.8888888888888888,\"#fdca26\"],[1.0,\"#f0f921\"]],\"type\":\"histogram2dcontour\"}],\"histogram2d\":[{\"colorbar\":{\"outlinewidth\":0,\"ticks\":\"\"},\"colorscale\":[[0.0,\"#0d0887\"],[0.1111111111111111,\"#46039f\"],[0.2222222222222222,\"#7201a8\"],[0.3333333333333333,\"#9c179e\"],[0.4444444444444444,\"#bd3786\"],[0.5555555555555556,\"#d8576b\"],[0.6666666666666666,\"#ed7953\"],[0.7777777777777778,\"#fb9f3a\"],[0.8888888888888888,\"#fdca26\"],[1.0,\"#f0f921\"]],\"type\":\"histogram2d\"}],\"histogram\":[{\"marker\":{\"pattern\":{\"fillmode\":\"overlay\",\"size\":10,\"solidity\":0.2}},\"type\":\"histogram\"}],\"mesh3d\":[{\"colorbar\":{\"outlinewidth\":0,\"ticks\":\"\"},\"type\":\"mesh3d\"}],\"parcoords\":[{\"line\":{\"colorbar\":{\"outlinewidth\":0,\"ticks\":\"\"}},\"type\":\"parcoords\"}],\"pie\":[{\"automargin\":true,\"type\":\"pie\"}],\"scatter3d\":[{\"line\":{\"colorbar\":{\"outlinewidth\":0,\"ticks\":\"\"}},\"marker\":{\"colorbar\":{\"outlinewidth\":0,\"ticks\":\"\"}},\"type\":\"scatter3d\"}],\"scattercarpet\":[{\"marker\":{\"colorbar\":{\"outlinewidth\":0,\"ticks\":\"\"}},\"type\":\"scattercarpet\"}],\"scattergeo\":[{\"marker\":{\"colorbar\":{\"outlinewidth\":0,\"ticks\":\"\"}},\"type\":\"scattergeo\"}],\"scattergl\":[{\"marker\":{\"line\":{\"color\":\"#283442\"}},\"type\":\"scattergl\"}],\"scattermapbox\":[{\"marker\":{\"colorbar\":{\"outlinewidth\":0,\"ticks\":\"\"}},\"type\":\"scattermapbox\"}],\"scatterpolargl\":[{\"marker\":{\"colorbar\":{\"outlinewidth\":0,\"ticks\":\"\"}},\"type\":\"scatterpolargl\"}],\"scatterpolar\":[{\"marker\":{\"colorbar\":{\"outlinewidth\":0,\"ticks\":\"\"}},\"type\":\"scatterpolar\"}],\"scatter\":[{\"marker\":{\"line\":{\"color\":\"#283442\"}},\"type\":\"scatter\"}],\"scatterternary\":[{\"marker\":{\"colorbar\":{\"outlinewidth\":0,\"ticks\":\"\"}},\"type\":\"scatterternary\"}],\"surface\":[{\"colorbar\":{\"outlinewidth\":0,\"ticks\":\"\"},\"colorscale\":[[0.0,\"#0d0887\"],[0.1111111111111111,\"#46039f\"],[0.2222222222222222,\"#7201a8\"],[0.3333333333333333,\"#9c179e\"],[0.4444444444444444,\"#bd3786\"],[0.5555555555555556,\"#d8576b\"],[0.6666666666666666,\"#ed7953\"],[0.7777777777777778,\"#fb9f3a\"],[0.8888888888888888,\"#fdca26\"],[1.0,\"#f0f921\"]],\"type\":\"surface\"}],\"table\":[{\"cells\":{\"fill\":{\"color\":\"#506784\"},\"line\":{\"color\":\"rgb(17,17,17)\"}},\"header\":{\"fill\":{\"color\":\"#2a3f5f\"},\"line\":{\"color\":\"rgb(17,17,17)\"}},\"type\":\"table\"}]},\"layout\":{\"annotationdefaults\":{\"arrowcolor\":\"#f2f5fa\",\"arrowhead\":0,\"arrowwidth\":1},\"autotypenumbers\":\"strict\",\"coloraxis\":{\"colorbar\":{\"outlinewidth\":0,\"ticks\":\"\"}},\"colorscale\":{\"diverging\":[[0,\"#8e0152\"],[0.1,\"#c51b7d\"],[0.2,\"#de77ae\"],[0.3,\"#f1b6da\"],[0.4,\"#fde0ef\"],[0.5,\"#f7f7f7\"],[0.6,\"#e6f5d0\"],[0.7,\"#b8e186\"],[0.8,\"#7fbc41\"],[0.9,\"#4d9221\"],[1,\"#276419\"]],\"sequential\":[[0.0,\"#0d0887\"],[0.1111111111111111,\"#46039f\"],[0.2222222222222222,\"#7201a8\"],[0.3333333333333333,\"#9c179e\"],[0.4444444444444444,\"#bd3786\"],[0.5555555555555556,\"#d8576b\"],[0.6666666666666666,\"#ed7953\"],[0.7777777777777778,\"#fb9f3a\"],[0.8888888888888888,\"#fdca26\"],[1.0,\"#f0f921\"]],\"sequentialminus\":[[0.0,\"#0d0887\"],[0.1111111111111111,\"#46039f\"],[0.2222222222222222,\"#7201a8\"],[0.3333333333333333,\"#9c179e\"],[0.4444444444444444,\"#bd3786\"],[0.5555555555555556,\"#d8576b\"],[0.6666666666666666,\"#ed7953\"],[0.7777777777777778,\"#fb9f3a\"],[0.8888888888888888,\"#fdca26\"],[1.0,\"#f0f921\"]]},\"colorway\":[\"#636efa\",\"#EF553B\",\"#00cc96\",\"#ab63fa\",\"#FFA15A\",\"#19d3f3\",\"#FF6692\",\"#B6E880\",\"#FF97FF\",\"#FECB52\"],\"font\":{\"color\":\"#f2f5fa\"},\"geo\":{\"bgcolor\":\"rgb(17,17,17)\",\"lakecolor\":\"rgb(17,17,17)\",\"landcolor\":\"rgb(17,17,17)\",\"showlakes\":true,\"showland\":true,\"subunitcolor\":\"#506784\"},\"hoverlabel\":{\"align\":\"left\"},\"hovermode\":\"closest\",\"mapbox\":{\"style\":\"dark\"},\"paper_bgcolor\":\"rgb(17,17,17)\",\"plot_bgcolor\":\"rgb(17,17,17)\",\"polar\":{\"angularaxis\":{\"gridcolor\":\"#506784\",\"linecolor\":\"#506784\",\"ticks\":\"\"},\"bgcolor\":\"rgb(17,17,17)\",\"radialaxis\":{\"gridcolor\":\"#506784\",\"linecolor\":\"#506784\",\"ticks\":\"\"}},\"scene\":{\"xaxis\":{\"backgroundcolor\":\"rgb(17,17,17)\",\"gridcolor\":\"#506784\",\"gridwidth\":2,\"linecolor\":\"#506784\",\"showbackground\":true,\"ticks\":\"\",\"zerolinecolor\":\"#C8D4E3\"},\"yaxis\":{\"backgroundcolor\":\"rgb(17,17,17)\",\"gridcolor\":\"#506784\",\"gridwidth\":2,\"linecolor\":\"#506784\",\"showbackground\":true,\"ticks\":\"\",\"zerolinecolor\":\"#C8D4E3\"},\"zaxis\":{\"backgroundcolor\":\"rgb(17,17,17)\",\"gridcolor\":\"#506784\",\"gridwidth\":2,\"linecolor\":\"#506784\",\"showbackground\":true,\"ticks\":\"\",\"zerolinecolor\":\"#C8D4E3\"}},\"shapedefaults\":{\"line\":{\"color\":\"#f2f5fa\"}},\"sliderdefaults\":{\"bgcolor\":\"#C8D4E3\",\"bordercolor\":\"rgb(17,17,17)\",\"borderwidth\":1,\"tickwidth\":0},\"ternary\":{\"aaxis\":{\"gridcolor\":\"#506784\",\"linecolor\":\"#506784\",\"ticks\":\"\"},\"baxis\":{\"gridcolor\":\"#506784\",\"linecolor\":\"#506784\",\"ticks\":\"\"},\"bgcolor\":\"rgb(17,17,17)\",\"caxis\":{\"gridcolor\":\"#506784\",\"linecolor\":\"#506784\",\"ticks\":\"\"}},\"title\":{\"x\":0.05},\"updatemenudefaults\":{\"bgcolor\":\"#506784\",\"borderwidth\":0},\"xaxis\":{\"automargin\":true,\"gridcolor\":\"#283442\",\"linecolor\":\"#506784\",\"ticks\":\"\",\"title\":{\"standoff\":15},\"zerolinecolor\":\"#283442\",\"zerolinewidth\":2},\"yaxis\":{\"automargin\":true,\"gridcolor\":\"#283442\",\"linecolor\":\"#506784\",\"ticks\":\"\",\"title\":{\"standoff\":15},\"zerolinecolor\":\"#283442\",\"zerolinewidth\":2}}},\"scene\":{\"xaxis\":{\"backgroundcolor\":\"black\",\"nticks\":10,\"range\":[49.918823601567354,101.91303947906131]},\"yaxis\":{\"backgroundcolor\":\"black\",\"nticks\":10,\"range\":[49.998999999999995,101.99321587749395]},\"zaxis\":{\"backgroundcolor\":\"black\",\"nticks\":10,\"range\":[0,51.99421587749395]},\"camera\":{\"eye\":{\"x\":-0.7142857142857143,\"y\":-1.4285714285714286,\"z\":0.2142857142857143},\"center\":{\"x\":0,\"y\":0,\"z\":-0.5}},\"aspectmode\":\"cube\"},\"margin\":{\"l\":10,\"r\":10,\"b\":10,\"t\":10,\"pad\":4},\"paper_bgcolor\":\"black\",\"width\":800,\"height\":500},                        {\"responsive\": true}                    ).then(function(){\n",
              "                            \n",
              "var gd = document.getElementById('0230531c-6f42-45f5-8cf4-fab524c8b4c0');\n",
              "var x = new MutationObserver(function (mutations, observer) {{\n",
              "        var display = window.getComputedStyle(gd).display;\n",
              "        if (!display || display === 'none') {{\n",
              "            console.log([gd, 'removed!']);\n",
              "            Plotly.purge(gd);\n",
              "            observer.disconnect();\n",
              "        }}\n",
              "}});\n",
              "\n",
              "// Listen for the removal of the full notebook cells\n",
              "var notebookContainer = gd.closest('#notebook-container');\n",
              "if (notebookContainer) {{\n",
              "    x.observe(notebookContainer, {childList: true});\n",
              "}}\n",
              "\n",
              "// Listen for the clearing of the current output cell\n",
              "var outputEl = gd.closest('.output');\n",
              "if (outputEl) {{\n",
              "    x.observe(outputEl, {childList: true});\n",
              "}}\n",
              "\n",
              "                        })                };                            </script>        </div>\n",
              "</body>\n",
              "</html>"
            ]
          },
          "metadata": {}
        }
      ],
      "source": [
        "# preview the design\n",
        "\n",
        "fc.transform(steps, 'plot', fc.PlotControls(style='line', zoom=0.7))\n",
        "# hover the cursor over the lines in the plot to check xyz positions of the points in the design\n",
        "\n",
        "# uncomment the next line to create a plot with real heights/widths for extruded lines to preview the real 3D printed geometry\n",
        "# fc.transform(steps, 'plot', fc.PlotControls(style='tube', zoom=0.7, initialization_data={'extrusion_width': EW, 'extrusion_height': EH}))\n",
        "\n",
        "# uncomment the next line to create a neat preview (click the top-left button in the plot for a .png file) - post and tag @FullControlXYZ :)\n",
        "# fc.transform(steps, 'plot', fc.PlotControls(neat_for_publishing=True, zoom=0.5, initialization_data={'extrusion_width': EW, 'extrusion_height': EH}))\n"
      ]
    },
    {
      "cell_type": "code",
      "execution_count": 116,
      "metadata": {
        "colab": {
          "base_uri": "https://localhost:8080/",
          "height": 17
        },
        "id": "tggFoUeJReQR",
        "outputId": "a9d61111-badd-48ed-fbac-7f2bfb89f111"
      },
      "outputs": [
        {
          "output_type": "display_data",
          "data": {
            "text/plain": [
              "<IPython.core.display.Javascript object>"
            ],
            "application/javascript": [
              "\n",
              "    async function download(id, filename, size) {\n",
              "      if (!google.colab.kernel.accessAllowed) {\n",
              "        return;\n",
              "      }\n",
              "      const div = document.createElement('div');\n",
              "      const label = document.createElement('label');\n",
              "      label.textContent = `Downloading \"${filename}\": `;\n",
              "      div.appendChild(label);\n",
              "      const progress = document.createElement('progress');\n",
              "      progress.max = size;\n",
              "      div.appendChild(progress);\n",
              "      document.body.appendChild(div);\n",
              "\n",
              "      const buffers = [];\n",
              "      let downloaded = 0;\n",
              "\n",
              "      const channel = await google.colab.kernel.comms.open(id);\n",
              "      // Send a message to notify the kernel that we're ready.\n",
              "      channel.send({})\n",
              "\n",
              "      for await (const message of channel.messages) {\n",
              "        // Send a message to notify the kernel that we're ready.\n",
              "        channel.send({})\n",
              "        if (message.buffers) {\n",
              "          for (const buffer of message.buffers) {\n",
              "            buffers.push(buffer);\n",
              "            downloaded += buffer.byteLength;\n",
              "            progress.value = downloaded;\n",
              "          }\n",
              "        }\n",
              "      }\n",
              "      const blob = new Blob(buffers, {type: 'application/binary'});\n",
              "      const a = document.createElement('a');\n",
              "      a.href = window.URL.createObjectURL(blob);\n",
              "      a.download = filename;\n",
              "      div.appendChild(a);\n",
              "      a.click();\n",
              "      div.remove();\n",
              "    }\n",
              "  "
            ]
          },
          "metadata": {}
        },
        {
          "output_type": "display_data",
          "data": {
            "text/plain": [
              "<IPython.core.display.Javascript object>"
            ],
            "application/javascript": [
              "download(\"download_d3826584-0c39-4bd0-bcb0-8c7693aea914\", \"scaffold en cuadrado_P7.gcode\", 7316)"
            ]
          },
          "metadata": {}
        }
      ],
      "source": [
        "# generate and save gcode\n",
        "\n",
        "gcode_controls = fc.GcodeControls(\n",
        "    printer_name=printer_name,\n",
        "\n",
        "    initialization_data={\n",
        "        'primer': 'front_lines_then_y',\n",
        "        'print_speed': print_speed,\n",
        "        'nozzle_temp': nozzle_temp,\n",
        "        'bed_temp': bed_temp,\n",
        "        'fan_percent': fan_percent,\n",
        "        'extrusion_width': EW,\n",
        "        'extrusion_height': EH})\n",
        "gcode = fc.transform(steps, 'gcode', gcode_controls)\n",
        "open(f'{design_name}.gcode', 'w').write(gcode)\n",
        "files.download(f'{design_name}.gcode')"
      ]
    },
    {
      "cell_type": "markdown",
      "metadata": {
        "id": "rmYks_AoQYLs"
      },
      "source": [
        "#### please tell us what you're doing with FullControl!\n",
        "\n",
        "- tag FullControlXYZ on social media ([twitter](https://twitter.com/FullControlXYZ), [instagram](https://www.instagram.com/fullcontrolxyz/), [linkedin](https://www.linkedin.com/in/andrew-gleadall-068587119/), [tiktok](https://www.tiktok.com/@fullcontrolxyz))\n",
        "- email [info@fullcontrol.xyz](mailto:info@fullcontrol.xyz)\n",
        "- post on the [subreddit](https://reddit.com/r/fullcontrol)\n",
        "- post in the [github discussions or issues tabs](https://github.com/FullControlXYZ/fullcontrol/issues)\n",
        "\n",
        "in publications, please cite the original FullControl paper and the github repo for the new python version:\n",
        "\n",
        "- Gleadall, A. (2021). FullControl GCode Designer: open-source software for unconstrained design in additive manufacturing. Additive Manufacturing, 46, 102109.\n",
        "- Gleadall, A. and Leas, D. (2023). FullControl [electronic resource: python source code]. available at: https://github.com/FullControlXYZ/fullcontrol"
      ]
    }
  ],
  "metadata": {
    "colab": {
      "provenance": [],
      "include_colab_link": true
    },
    "kernelspec": {
      "display_name": "Python 3",
      "name": "python3"
    },
    "language_info": {
      "codemirror_mode": {
        "name": "ipython",
        "version": 3
      },
      "file_extension": ".py",
      "mimetype": "text/x-python",
      "name": "python",
      "nbconvert_exporter": "python",
      "pygments_lexer": "ipython3",
      "version": "3.11.3"
    }
  },
  "nbformat": 4,
  "nbformat_minor": 0
}